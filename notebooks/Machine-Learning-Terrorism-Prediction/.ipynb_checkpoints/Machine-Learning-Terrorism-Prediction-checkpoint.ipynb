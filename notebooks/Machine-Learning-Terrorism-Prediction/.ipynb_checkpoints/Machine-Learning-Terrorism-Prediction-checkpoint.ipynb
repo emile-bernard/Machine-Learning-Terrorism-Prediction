{
 "cells": [
  {
   "cell_type": "markdown",
   "metadata": {},
   "source": [
    "# Machine-Learning-Terrorism-Prediction"
   ]
  },
  {
   "cell_type": "markdown",
   "metadata": {},
   "source": [
    "Organise imports"
   ]
  },
  {
   "cell_type": "code",
   "execution_count": 119,
   "metadata": {},
   "outputs": [],
   "source": [
    "from sklearn.model_selection import train_test_split\n",
    "from sklearn.preprocessing import LabelEncoder, OneHotEncoder, StandardScaler, MinMaxScaler\n",
    "from sklearn.metrics import confusion_matrix\n",
    "    \n",
    "import numpy as np\n",
    "    \n",
    "import pandas as pd\n",
    "\n",
    "import matplotlib\n",
    "import matplotlib.pyplot as plt"
   ]
  },
  {
   "cell_type": "markdown",
   "metadata": {},
   "source": [
    "## Load the csv dataset"
   ]
  },
  {
   "cell_type": "code",
   "execution_count": null,
   "metadata": {},
   "outputs": [],
   "source": [
    "path = './data/globalterrorismdb.csv'\n",
    "columnNames = pd.read_csv(path, encoding=\"utf-8\").columns.tolist()"
   ]
  },
  {
   "cell_type": "markdown",
   "metadata": {},
   "source": [
    "## Create a dataframe"
   ]
  },
  {
   "cell_type": "code",
   "execution_count": null,
   "metadata": {},
   "outputs": [],
   "source": [
    "dataFrame = pd.read_csv(path, names=columnNames)"
   ]
  },
  {
   "cell_type": "markdown",
   "metadata": {},
   "source": [
    "Let's print our number of columns (possible features)"
   ]
  },
  {
   "cell_type": "code",
   "execution_count": null,
   "metadata": {
    "scrolled": true
   },
   "outputs": [],
   "source": [
    "dataFrame.columns.size"
   ]
  },
  {
   "cell_type": "markdown",
   "metadata": {},
   "source": [
    "Let's list them all"
   ]
  },
  {
   "cell_type": "code",
   "execution_count": null,
   "metadata": {
    "scrolled": false
   },
   "outputs": [],
   "source": [
    "list(dataFrame.columns.values)"
   ]
  },
  {
   "cell_type": "markdown",
   "metadata": {},
   "source": [
    "Official columns attribute description:\n",
    "\n",
    "- eventid: A 12-digit Event ID system. First 8 numbers – date recorded “yyyymmdd”. Last 4 numbers – sequential case number for the given day (0001, 0002 etc).\n",
    "\n",
    "- iyear: This field contains the year in which the incident occurred.\n",
    "- imonth: This field contains the number of the month in which the incident occurred.\n",
    "- iday: This field contains the numeric day of the month on which the incident occurred.\n",
    "\n",
    "- extended: 1 = \"Yes\" The duration of an incident extended more than 24 hours. 0 = \"No\" The duration of an incident extended less than 24 hours.\n",
    "\n",
    "- country: This field identifies the country code\n",
    "- country_txt: This field identifies the country or location where the incident occurred.\n",
    "- region: This field identifies the region code based on 12 regions\n",
    "- region_txt: This field identifies the region in which the incident occurred.\n",
    "- provstate: Name (at the time of event) of the 1st order subnational administrative region\n",
    "- city: Name of the city, village, or town in which the incident occurred\n",
    "- latitude: The latitude of the city in which the event occurred.\n",
    "- longitude: The longitude of the city in which the event occurred.\n",
    "\n",
    "- success: Success of a terrorist strike\n",
    "- suicide: 1 = \"Yes\" The incident was a suicide attack. 0 = \"No\" There is no indication that the incident was a - suicide attack.\n",
    "- attacktype1: The general method of attack\n",
    "- attacktype1_txt: The general method of attack and broad class of tactics used.\n",
    "\n",
    "- targtype1_txt: The general type of target/victim\n",
    "- targsubtype1_txt: The more specific target category\n",
    "\n",
    "- target1: The specific person, building, installation that was targeted and/or victimized\n",
    "\n",
    "- natlty1_txt: The nationality of the target that was attacked\n",
    "\n",
    "- gname: The name of the group that carried out the attack\n",
    "- gsubname: Additional details about group that carried out the attack like factions\n",
    "\n",
    "- nperps: The total number of terrorists participating in the incident\n",
    "\n",
    "- weaptype1_txt: General type of weapon used in the incident\n",
    "- weapsubtype1_txt: More specific value for most of the Weapon Types\n",
    "\n",
    "- nkill: The number of total confirmed fatalities for the incident\n",
    "- nkillus: The number of U.S. citizens who died as a result of the incident\n",
    "- nwound: Number of confirmed non-fatal injuries to both perpetrators and victims.\n",
    "- nwoundus: The number of confirmed non-fatal injuries to U.S. citizens, both perpetrators and victims."
   ]
  },
  {
   "cell_type": "markdown",
   "metadata": {},
   "source": [
    "Let's only keep the documented features in our dataframe. This will make the analysis easier."
   ]
  },
  {
   "cell_type": "code",
   "execution_count": null,
   "metadata": {},
   "outputs": [],
   "source": [
    "categorylist = ['eventid',\n",
    "                'iyear',\n",
    "                'imonth',\n",
    "                'iday',\n",
    "                'extended',\n",
    "                'country',\n",
    "                'country_txt',\n",
    "                'region',\n",
    "                'region_txt',\n",
    "                'provstate',\n",
    "                'city',\n",
    "                'latitude',\n",
    "                'longitude',\n",
    "                'success',\n",
    "                'suicide',\n",
    "                'attacktype1',\n",
    "                'attacktype1_txt',\n",
    "                'targtype1_txt',\n",
    "                'targsubtype1_txt',\n",
    "                'target1',\n",
    "                'natlty1_txt',\n",
    "                'gname',\n",
    "                'gsubname',\n",
    "                'nperps',\n",
    "                'weaptype1_txt',\n",
    "                'weapsubtype1_txt',\n",
    "                'nkill',\n",
    "                'nkillus',\n",
    "                'nwound',\n",
    "                'nwoundus'\n",
    "               ]"
   ]
  },
  {
   "cell_type": "code",
   "execution_count": null,
   "metadata": {
    "scrolled": false
   },
   "outputs": [],
   "source": [
    "selectedDataFrame = dataFrame[categorylist]\n",
    "selectedDataFrame"
   ]
  },
  {
   "cell_type": "markdown",
   "metadata": {},
   "source": [
    "## Label Encoding"
   ]
  },
  {
   "cell_type": "code",
   "execution_count": null,
   "metadata": {},
   "outputs": [],
   "source": []
  },
  {
   "cell_type": "code",
   "execution_count": null,
   "metadata": {},
   "outputs": [],
   "source": []
  },
  {
   "cell_type": "code",
   "execution_count": null,
   "metadata": {},
   "outputs": [],
   "source": []
  },
  {
   "cell_type": "code",
   "execution_count": null,
   "metadata": {},
   "outputs": [],
   "source": []
  },
  {
   "cell_type": "code",
   "execution_count": null,
   "metadata": {},
   "outputs": [],
   "source": []
  },
  {
   "cell_type": "code",
   "execution_count": null,
   "metadata": {},
   "outputs": [],
   "source": []
  },
  {
   "cell_type": "code",
   "execution_count": null,
   "metadata": {},
   "outputs": [],
   "source": []
  },
  {
   "cell_type": "code",
   "execution_count": null,
   "metadata": {},
   "outputs": [],
   "source": []
  },
  {
   "cell_type": "code",
   "execution_count": null,
   "metadata": {},
   "outputs": [],
   "source": []
  },
  {
   "cell_type": "code",
   "execution_count": null,
   "metadata": {},
   "outputs": [],
   "source": []
  },
  {
   "cell_type": "code",
   "execution_count": null,
   "metadata": {},
   "outputs": [],
   "source": []
  },
  {
   "cell_type": "code",
   "execution_count": null,
   "metadata": {},
   "outputs": [],
   "source": []
  },
  {
   "cell_type": "code",
   "execution_count": null,
   "metadata": {},
   "outputs": [],
   "source": []
  }
 ],
 "metadata": {
  "kernelspec": {
   "display_name": "Python 3",
   "language": "python",
   "name": "python3"
  },
  "language_info": {
   "codemirror_mode": {
    "name": "ipython",
    "version": 3
   },
   "file_extension": ".py",
   "mimetype": "text/x-python",
   "name": "python",
   "nbconvert_exporter": "python",
   "pygments_lexer": "ipython3",
   "version": "3.6.8"
  }
 },
 "nbformat": 4,
 "nbformat_minor": 2
}
